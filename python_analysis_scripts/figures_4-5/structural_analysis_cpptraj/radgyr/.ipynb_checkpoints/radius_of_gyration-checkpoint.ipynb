{
 "cells": [
  {
   "cell_type": "code",
   "execution_count": 1,
   "id": "31013117-bf89-4a69-81fc-be8aee0710ae",
   "metadata": {},
   "outputs": [],
   "source": [
    "import numpy as np\n",
    "import matplotlib.pyplot as plt"
   ]
  },
  {
   "cell_type": "code",
   "execution_count": 102,
   "id": "2d459cea-cfbb-4310-a75c-d642bd71c8e0",
   "metadata": {},
   "outputs": [
    {
     "name": "stdout",
     "output_type": "stream",
     "text": [
      "Std of tetramer: 0.19888218870653301\n",
      "Std of monomer: 11.887084669543494\n",
      "The radius-of-gyration fluctuations of the monomer are 60 times bigger than the tetramer\n"
     ]
    }
   ],
   "source": [
    "rad_gyr_data1=np.loadtxt('bv_cluster.out',skiprows=1)\n",
    "rad_gyr_data2=np.loadtxt('tetramer_chainB.out',skiprows=1)\n",
    "rad_gyr_data3=np.loadtxt('tetramer_chainC.out',skiprows=1)\n",
    "rad_gyr_data4=np.loadtxt('tetramer_chainD.out',skiprows=1)\n",
    "rad_gyr_datam=np.loadtxt('monomer2.out',skiprows=1,max_rows=20000)\n",
    "rad_gyr_x1=rad_gyr_data1[:,0]\n",
    "rad_gyr_y1=rad_gyr_data1[:,1]\n",
    "rad_gyr_x2=rad_gyr_data2[:,0]\n",
    "rad_gyr_y2=rad_gyr_data2[:,1]\n",
    "rad_gyr_x3=rad_gyr_data3[:,0]\n",
    "rad_gyr_y3=rad_gyr_data3[:,1]\n",
    "rad_gyr_x4=rad_gyr_data4[:,0]\n",
    "rad_gyr_y4=rad_gyr_data4[:,1]\n",
    "rad_gyr_xm=rad_gyr_datam[:,0]\n",
    "rad_gyr_ym=rad_gyr_datam[:,1]\n",
    "\n",
    "std_tet=(np.std(rad_gyr_y1))\n",
    "std_mon=np.std(rad_gyr_ym)\n",
    "print(\"Std of tetramer:\", std_tet)\n",
    "print(\"Std of monomer:\", std_mon)\n",
    "\n",
    "percent = (std_tet / std_mon) * 100\n",
    "bigger=std_mon/std_tet\n",
    "print(f\"The radius-of-gyration fluctuations of the monomer are {bigger:.0f} times bigger than the tetramer\")"
   ]
  },
  {
   "cell_type": "code",
   "execution_count": 101,
   "id": "c19f0a82-2a31-4514-9ab3-5245cf4e9461",
   "metadata": {},
   "outputs": [
    {
     "data": {
      "image/png": "[encoded data removed]",
      "text/plain": [
       "<Figure size 640x480 with 1 Axes>"
      ]
     },
     "metadata": {},
     "output_type": "display_data"
    }
   ],
   "source": [
    "#plt.scatter(x2,y2,s=1)\n",
    "#plt.scatter(x3,y3,s=1)\n",
    "#plt.scatter(x4,y4,s=1)\n",
    "plt.hist(y3,bins=100,density=True,color='aqua')\n",
    "plt.hist(ym,bins=200,density=True,color='black')\n",
    "plt.show()"
   ]
  },
  {
   "cell_type": "code",
   "execution_count": null,
   "id": "915c66ce-3ea7-4ee7-a11c-c421903b9be8",
   "metadata": {},
   "outputs": [],
   "source": []
  }
 ],
 "metadata": {
  "kernelspec": {
   "display_name": "Python 3 (ipykernel)",
   "language": "python",
   "name": "python3"
  },
  "language_info": {
   "codemirror_mode": {
    "name": "ipython",
    "version": 3
   },
   "file_extension": ".py",
   "mimetype": "text/x-python",
   "name": "python",
   "nbconvert_exporter": "python",
   "pygments_lexer": "ipython3",
   "version": "3.12.2"
  }
 },
 "nbformat": 4,
 "nbformat_minor": 5
}
